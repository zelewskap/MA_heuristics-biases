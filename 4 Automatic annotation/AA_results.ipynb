{
  "nbformat": 4,
  "nbformat_minor": 0,
  "metadata": {
    "colab": {
      "provenance": [],
      "collapsed_sections": [
        "ui43uljmsWJ1",
        "hKT2LSUvvjQX",
        "W_NdW0pssUcO",
        "fe8N4NJ8uX91",
        "wsm0lrLtxmO2",
        "pxDUtpUa387M",
        "lKiykHv4ytTZ",
        "Ea-m6Xe86k95"
      ],
      "toc_visible": true
    },
    "kernelspec": {
      "name": "python3",
      "display_name": "Python 3"
    },
    "language_info": {
      "name": "python"
    }
  },
  "cells": [
    {
      "cell_type": "markdown",
      "source": [
        "# Imports"
      ],
      "metadata": {
        "id": "nPoc6w03sHxi"
      }
    },
    {
      "cell_type": "code",
      "execution_count": null,
      "metadata": {
        "id": "X6EYR-8qsFdE"
      },
      "outputs": [],
      "source": [
        "import pandas as pd\n",
        "import numpy as np\n",
        "import matplotlib.pyplot as plt\n",
        "import ast\n",
        "from sklearn.metrics import cohen_kappa_score, f1_score\n",
        "import seaborn as sns"
      ]
    },
    {
      "cell_type": "code",
      "source": [
        "sns.set_style(\"whitegrid\")"
      ],
      "metadata": {
        "id": "ACJe7-mWyto3"
      },
      "execution_count": null,
      "outputs": []
    },
    {
      "cell_type": "markdown",
      "source": [
        "# AA"
      ],
      "metadata": {
        "id": "ln9K7Bn84nqn"
      }
    },
    {
      "cell_type": "markdown",
      "source": [
        "## Human annotators"
      ],
      "metadata": {
        "id": "SphRQiyWzx42"
      }
    },
    {
      "cell_type": "markdown",
      "source": [
        "r/t - reddit/twitter\n",
        "\n",
        "bs/fs/ir/wl - annotator initials\n",
        "\n",
        "cc/ai - climate change/artificial intelligence\n"
      ],
      "metadata": {
        "id": "A7-PcM97AbKu"
      }
    },
    {
      "cell_type": "markdown",
      "source": [
        "Annotator 1"
      ],
      "metadata": {
        "id": "582T-AVw4j1v"
      }
    },
    {
      "cell_type": "code",
      "source": [
        "r_bs_cc = pd.read_excel('/content/drive/MyDrive/MA thesis/2nd round/Reddit_r2_a1_zgodność_climate.xlsx')\n",
        "r_bs_ai = pd.read_excel('/content/drive/MyDrive/MA thesis/2nd round/Reddit_r2_a1_zgodność_AI.xlsx')\n",
        "\n",
        "t_bs_cc = pd.read_excel('/content/drive/MyDrive/MA thesis/2nd round/Twitter_r2_a1_zgodność_climate.xlsx')\n",
        "t_bs_ai = pd.read_excel('/content/drive/MyDrive/MA thesis/2nd round/Twitter_r2_a1_zgodność_AI.xlsx')"
      ],
      "metadata": {
        "id": "nRq4Glke4j1w"
      },
      "execution_count": null,
      "outputs": []
    },
    {
      "cell_type": "markdown",
      "source": [
        "Annotator 2"
      ],
      "metadata": {
        "id": "02e92_j54j1x"
      }
    },
    {
      "cell_type": "code",
      "source": [
        "r_fs_cc = pd.read_excel('/content/drive/MyDrive/MA thesis/2nd round/Reddit_r2_a2_zgodność_climate.xlsx')\n",
        "r_fs_ai = pd.read_excel('/content/drive/MyDrive/MA thesis/2nd round/Reddit_r2_a2_zgodność_AI.xlsx')\n",
        "\n",
        "t_fs_cc = pd.read_excel('/content/drive/MyDrive/MA thesis/2nd round/Twitter_r2_a2_zgodność_climate.xlsx')\n",
        "t_fs_ai = pd.read_excel('/content/drive/MyDrive/MA thesis/2nd round/Twitter_r2_a2_zgodność_AI.xlsx')"
      ],
      "metadata": {
        "id": "LDNYfWxy4j1y"
      },
      "execution_count": null,
      "outputs": []
    },
    {
      "cell_type": "markdown",
      "source": [
        "Annotator 3"
      ],
      "metadata": {
        "id": "ecOu2F5E4j1y"
      }
    },
    {
      "cell_type": "code",
      "source": [
        "r_ir_cc = pd.read_excel('/content/drive/MyDrive/MA thesis/2nd round/Reddit_r2_a3_zgodność_climate_corrected.xlsx')\n",
        "r_ir_ai = pd.read_excel('/content/drive/MyDrive/MA thesis/2nd round/Reddit_r2_a3_zgodność_AI.xlsx')\n",
        "\n",
        "t_ir_cc = pd.read_excel('/content/drive/MyDrive/MA thesis/2nd round/Twitter_r2_a3_zgodność_climate.xlsx')\n",
        "t_ir_ai = pd.read_excel('/content/drive/MyDrive/MA thesis/2nd round/Twitter_r2_a3_zgodność_AI.xlsx')"
      ],
      "metadata": {
        "id": "6sQ6QR_G4j1y"
      },
      "execution_count": null,
      "outputs": []
    },
    {
      "cell_type": "markdown",
      "source": [
        "Annotator 4"
      ],
      "metadata": {
        "id": "w-ncQPGL4j1z"
      }
    },
    {
      "cell_type": "code",
      "source": [
        "r_wl_cc = pd.read_excel('/content/drive/MyDrive/MA thesis/2nd round/Reddit_r2_a4_zgodność_climate.xlsx')\n",
        "r_wl_ai = pd.read_excel('/content/drive/MyDrive/MA thesis/2nd round/Reddit_r2_a4_zgodność_AI.xlsx')\n",
        "\n",
        "t_wl_cc = pd.read_excel('/content/drive/MyDrive/MA thesis/2nd round/Twitter_r2_a4_zgodność_climate.xlsx')\n",
        "t_wl_ai = pd.read_excel('/content/drive/MyDrive/MA thesis/2nd round/Twitter_r2_a4_zgodność_AI.xlsx')"
      ],
      "metadata": {
        "id": "l1jgfWnc4j1z"
      },
      "execution_count": null,
      "outputs": []
    },
    {
      "cell_type": "markdown",
      "source": [
        "## Merging human and GPT annotation"
      ],
      "metadata": {
        "id": "5lHOdg4r_ceR"
      }
    },
    {
      "cell_type": "code",
      "source": [
        "result_bs = result_bs.rename(columns={\n",
        "    'affect_h': 'affect_h_bs',\n",
        "    'availability_h': 'availability_h_bs',\n",
        "    'representativeness_h': 'representativeness_h_bs',\n",
        "    'confirmation_b': 'confirmation_b_bs',\n",
        "    'all_or_nothing': 'all_or_nothing_bs'\n",
        "})"
      ],
      "metadata": {
        "id": "GHMtLWcC4ozY"
      },
      "execution_count": null,
      "outputs": []
    },
    {
      "cell_type": "code",
      "source": [
        "result_bs[['affect_h_fs', 'availability_h_fs', 'representativeness_h_fs',\n",
        "        'confirmation_b_fs', 'all_or_nothing_fs']] = result_fs[['affect_h', 'availability_h', 'representativeness_h',\n",
        "                                                                  'confirmation_b', 'all_or_nothing']]\n",
        "\n",
        "result_bs[['affect_h_ir', 'availability_h_ir', 'representativeness_h_ir',\n",
        "        'confirmation_b_ir', 'all_or_nothing_ir']] = result_ir[['affect_h', 'availability_h', 'representativeness_h',\n",
        "                                                                 'confirmation_b', 'all_or_nothing']]\n",
        "\n",
        "result_bs[['affect_h_wl', 'availability_h_wl', 'representativeness_h_wl',\n",
        "        'confirmation_b_wl', 'all_or_nothing_wl']] = result_wl[['affect_h', 'availability_h', 'representativeness_h',\n",
        "                                                                 'confirmation_b', 'all_or_nothing']]"
      ],
      "metadata": {
        "id": "gcsaaSYU_QK2"
      },
      "execution_count": null,
      "outputs": []
    },
    {
      "cell_type": "code",
      "source": [
        "result_bs.head()"
      ],
      "metadata": {
        "id": "CpZP6vVP_YZV"
      },
      "execution_count": null,
      "outputs": []
    },
    {
      "cell_type": "code",
      "source": [
        "gpt_df = pd.read_excel(\"/content/drive/MyDrive/MA thesis/Open AI automatic annotation/Pliki po anotacji/merged_annotated_gpt.xlsx\")"
      ],
      "metadata": {
        "id": "rz14SGn3_Z_n"
      },
      "execution_count": null,
      "outputs": []
    },
    {
      "cell_type": "markdown",
      "source": [
        "## GPT as 5th annotator"
      ],
      "metadata": {
        "id": "y63eZaCm5EGp"
      }
    },
    {
      "cell_type": "markdown",
      "source": [
        "### Merged file"
      ],
      "metadata": {
        "id": "hTMcnkWc5dFZ"
      }
    },
    {
      "cell_type": "code",
      "source": [
        "human_merged = pd.read_excel(\"/content/drive/MyDrive/MA thesis/2nd round/final_merged_annotations_with_id.xlsx\")\n",
        "gpt_df = pd.read_excel(\"/content/drive/MyDrive/MA thesis/Open AI automatic annotation/Pliki po anotacji/merged_annotated_gpt.xlsx\")"
      ],
      "metadata": {
        "id": "DdmOxbzB5btx"
      },
      "execution_count": null,
      "outputs": []
    },
    {
      "cell_type": "code",
      "source": [
        "gpt_df.rename(columns={\n",
        "    'affect_h': 'affect_h_gpt',\n",
        "    'availability_h': 'availability_h_gpt',\n",
        "    'representativeness_h': 'representativeness_h_gpt',\n",
        "    'confirmation_b': 'confirmation_b_gpt',\n",
        "    'all_or_nothing': 'all_or_nothing_gpt'\n",
        "}, inplace=True)"
      ],
      "metadata": {
        "id": "IsNoXMh_GuM9"
      },
      "execution_count": null,
      "outputs": []
    },
    {
      "cell_type": "code",
      "source": [
        "result_bs = pd.concat([r_bs_cc, r_bs_ai, t_bs_cc, t_bs_ai], ignore_index=True)\n",
        "result_fs = pd.concat([r_fs_cc, r_fs_ai, t_fs_cc, t_fs_ai], ignore_index=True)\n",
        "result_ir = pd.concat([r_ir_cc, r_ir_ai, t_ir_cc, t_ir_ai], ignore_index=True)\n",
        "result_wl = pd.concat([r_wl_cc, r_wl_ai, t_wl_cc, t_wl_ai], ignore_index=True)"
      ],
      "metadata": {
        "id": "O8KOAZ4U5mkQ"
      },
      "execution_count": null,
      "outputs": []
    },
    {
      "cell_type": "code",
      "source": [
        "gpt_df[['affect_h_bs', 'availability_h_bs', 'representativeness_h_bs',\n",
        "    'confirmation_b_bs', 'all_or_nothing_bs']] = result_bs[['affect_h', 'availability_h', 'representativeness_h',\n",
        "    'confirmation_b', 'all_or_nothing']]\n",
        "\n",
        "gpt_df[['affect_h_fs', 'availability_h_fs', 'representativeness_h_fs',\n",
        "    'confirmation_b_fs', 'all_or_nothing_fs']] = result_fs[['affect_h', 'availability_h', 'representativeness_h',\n",
        "    'confirmation_b', 'all_or_nothing']]\n",
        "\n",
        "gpt_df[['affect_h_ir', 'availability_h_ir', 'representativeness_h_ir',\n",
        "    'confirmation_b_ir', 'all_or_nothing_ir']] = result_ir[['affect_h', 'availability_h', 'representativeness_h',\n",
        "    'confirmation_b', 'all_or_nothing']]\n",
        "\n",
        "gpt_df[['affect_h_wl', 'availability_h_wl', 'representativeness_h_wl',\n",
        "    'confirmation_b_wl', 'all_or_nothing_wl']] = result_wl[['affect_h', 'availability_h', 'representativeness_h',\n",
        "    'confirmation_b', 'all_or_nothing']]"
      ],
      "metadata": {
        "id": "2sCykTLJ4qel"
      },
      "execution_count": null,
      "outputs": []
    },
    {
      "cell_type": "code",
      "source": [
        "gpt_df.to_excel('/content/drive/MyDrive/MA thesis/Results/merged_human_gpt.xlsx', index=False)"
      ],
      "metadata": {
        "id": "niidAxTg7oi4"
      },
      "execution_count": null,
      "outputs": []
    },
    {
      "cell_type": "markdown",
      "source": [
        "### Fleiss Kappa"
      ],
      "metadata": {
        "id": "JU97k9pS87pk"
      }
    },
    {
      "cell_type": "markdown",
      "source": [
        "#### Bias presence"
      ],
      "metadata": {
        "id": "19Oww2_k87pl"
      }
    },
    {
      "cell_type": "code",
      "source": [
        "bias_presence_df = gpt_df.copy()\n",
        "bias_columns = [col for col in bias_presence_df.columns if col not in ['topic']]\n",
        "bias_presence_df[bias_columns] = bias_presence_df[bias_columns].apply(pd.to_numeric, errors='coerce').fillna(0).astype(int)\n",
        "\n",
        "for col in bias_columns:\n",
        "    bias_presence_df[col] = np.where(bias_presence_df[col] > 0, 1, 0)\n",
        "\n",
        "bias_counts = bias_presence_df[bias_columns].apply(lambda row: np.bincount(row, minlength=2), axis=1)\n",
        "bias_counts_df = pd.DataFrame(bias_counts.tolist(), columns=['no_bias', 'bias'])\n",
        "\n",
        "kappa = fleiss_kappa(bias_counts_df.values, method='fleiss')\n",
        "print(f\"Fleiss' Kappa for bias/no bias agreement: {kappa:.4f}\")"
      ],
      "metadata": {
        "colab": {
          "base_uri": "https://localhost:8080/"
        },
        "outputId": "5212232e-9800-4132-b502-73b2ece3b4d8",
        "id": "xovs1rSt87pl"
      },
      "execution_count": null,
      "outputs": [
        {
          "output_type": "stream",
          "name": "stdout",
          "text": [
            "Fleiss' Kappa for bias/no bias agreement: -0.0106\n"
          ]
        }
      ]
    },
    {
      "cell_type": "markdown",
      "source": [
        "#### Each bias"
      ],
      "metadata": {
        "id": "HmDKcnhK87pl"
      }
    },
    {
      "cell_type": "code",
      "source": [
        "fleiss_kappa_results = {}\n",
        "\n",
        "for bias in ['affect_h', 'availability_h', 'representativeness_h', 'confirmation_b', 'all_or_nothing']:\n",
        "    annotator_columns = [f\"{bias}_{annotator}\" for annotator in ['gpt', 'bs', 'fs', 'ir', 'wl'] if f\"{bias}_{annotator}\" in bias_presence_df.columns]\n",
        "\n",
        "    bias_counts = bias_presence_df[annotator_columns].apply(lambda row: np.bincount(row, minlength=2), axis=1)\n",
        "    bias_counts_df = pd.DataFrame(bias_counts.tolist(), columns=['no_bias', 'bias'])\n",
        "\n",
        "    kappa = fleiss_kappa(bias_counts_df.values, method='fleiss')\n",
        "    fleiss_kappa_results[bias] = kappa\n",
        "    print(f\"Fleiss' Kappa for {bias}: {kappa:.4f}\")"
      ],
      "metadata": {
        "colab": {
          "base_uri": "https://localhost:8080/"
        },
        "outputId": "ee26cecd-b957-43df-b949-8dee3b659543",
        "id": "89ltwla387pl"
      },
      "execution_count": null,
      "outputs": [
        {
          "output_type": "stream",
          "name": "stdout",
          "text": [
            "Fleiss' Kappa for affect_h: 0.0736\n",
            "Fleiss' Kappa for availability_h: 0.0813\n",
            "Fleiss' Kappa for representativeness_h: 0.0189\n",
            "Fleiss' Kappa for confirmation_b: 0.0610\n",
            "Fleiss' Kappa for all_or_nothing: -0.0361\n"
          ]
        }
      ]
    },
    {
      "cell_type": "markdown",
      "source": [
        "### Cohen's Kappa"
      ],
      "metadata": {
        "id": "7_t6qpTP8X7_"
      }
    },
    {
      "cell_type": "markdown",
      "source": [
        "#### Bias presence"
      ],
      "metadata": {
        "id": "kihthlwJpZ5r"
      }
    },
    {
      "cell_type": "code",
      "source": [
        "annotators = ['gpt', 'bs', 'fs', 'ir', 'wl']\n",
        "kappa_results_bias_no_bias = {}\n",
        "\n",
        "annotator_pairs = list(itertools.combinations(annotators, 2))\n",
        "for annotator1, annotator2 in annotator_pairs:\n",
        "    col1 = [f\"{bias}_{annotator1}\" for bias in ['affect_h', 'availability_h', 'representativeness_h', 'confirmation_b', 'all_or_nothing']]\n",
        "    col2 = [f\"{bias}_{annotator2}\" for bias in ['affect_h', 'availability_h', 'representativeness_h', 'confirmation_b', 'all_or_nothing']]\n",
        "\n",
        "    combined_col1 = bias_presence_df[col1].sum(axis=1).apply(lambda x: 1 if x > 0 else 0)\n",
        "    combined_col2 = bias_presence_df[col2].sum(axis=1).apply(lambda x: 1 if x > 0 else 0)\n",
        "\n",
        "    kappa = cohen_kappa_score(combined_col1, combined_col2)\n",
        "    kappa_results_bias_no_bias[(annotator1, annotator2)] = kappa\n",
        "    print(f\"Cohen's Kappa for Bias/No Bias between {annotator1} and {annotator2}: {kappa:.4f}\")"
      ],
      "metadata": {
        "colab": {
          "base_uri": "https://localhost:8080/"
        },
        "id": "3T5D9hZw8XWJ",
        "outputId": "3dc462f3-fc06-4266-892b-36e51633fa3b"
      },
      "execution_count": null,
      "outputs": [
        {
          "output_type": "stream",
          "name": "stdout",
          "text": [
            "Cohen's Kappa for Bias/No Bias between gpt and bs: 0.0236\n",
            "Cohen's Kappa for Bias/No Bias between gpt and fs: 0.2027\n",
            "Cohen's Kappa for Bias/No Bias between gpt and ir: 0.0757\n",
            "Cohen's Kappa for Bias/No Bias between gpt and wl: 0.0222\n",
            "Cohen's Kappa for Bias/No Bias between bs and fs: 0.1339\n",
            "Cohen's Kappa for Bias/No Bias between bs and ir: 0.1073\n",
            "Cohen's Kappa for Bias/No Bias between bs and wl: 0.1522\n",
            "Cohen's Kappa for Bias/No Bias between fs and ir: 0.2215\n",
            "Cohen's Kappa for Bias/No Bias between fs and wl: 0.0969\n",
            "Cohen's Kappa for Bias/No Bias between ir and wl: 0.0848\n"
          ]
        }
      ]
    },
    {
      "cell_type": "markdown",
      "source": [
        "#### Each bias"
      ],
      "metadata": {
        "id": "ITA0V6Yc9i-L"
      }
    },
    {
      "cell_type": "code",
      "source": [
        "kappa_results = {}\n",
        "\n",
        "for bias in ['affect_h', 'availability_h', 'representativeness_h', 'confirmation_b', 'all_or_nothing']:\n",
        "    annotator_pairs = list(itertools.combinations(annotators, 2))\n",
        "\n",
        "    kappa_scores = {}\n",
        "    for annotator1, annotator2 in annotator_pairs:\n",
        "        col1 = f\"{bias}_{annotator1}\"\n",
        "        col2 = f\"{bias}_{annotator2}\"\n",
        "\n",
        "        if col1 in bias_presence_df.columns and col2 in bias_presence_df.columns:\n",
        "            try:\n",
        "                kappa = cohen_kappa_score(bias_presence_df[col1], bias_presence_df[col2])\n",
        "                if not np.isnan(kappa):\n",
        "                    kappa_scores[(annotator1, annotator2)] = kappa\n",
        "                    print(f\"Cohen's Kappa for {bias} between {annotator1} and {annotator2}: {kappa:.4f}\")\n",
        "            except ValueError:\n",
        "                continue\n",
        "\n",
        "    kappa_results[bias] = kappa_scores\n",
        "\n",
        "average_kappas = {bias: sum(scores.values()) / len(scores) for bias, scores in kappa_results.items() if scores}\n",
        "print(\"\\nAverage Cohen's Kappa for each bias category:\")\n",
        "for bias, avg_kappa in average_kappas.items():\n",
        "    print(f\"{bias}: {avg_kappa:.4f}\")"
      ],
      "metadata": {
        "colab": {
          "base_uri": "https://localhost:8080/"
        },
        "id": "G_Jw8DJn9itO",
        "outputId": "3e40e114-451b-48f4-c413-ab66ecfb2be3"
      },
      "execution_count": null,
      "outputs": [
        {
          "output_type": "stream",
          "name": "stdout",
          "text": [
            "Cohen's Kappa for affect_h between gpt and bs: 0.0400\n",
            "Cohen's Kappa for affect_h between gpt and fs: 0.1749\n",
            "Cohen's Kappa for affect_h between gpt and ir: 0.0475\n",
            "Cohen's Kappa for affect_h between gpt and wl: 0.0444\n",
            "Cohen's Kappa for affect_h between bs and fs: 0.0494\n",
            "Cohen's Kappa for affect_h between bs and ir: 0.0804\n",
            "Cohen's Kappa for affect_h between bs and wl: 0.1403\n",
            "Cohen's Kappa for affect_h between fs and ir: 0.1207\n",
            "Cohen's Kappa for affect_h between fs and wl: 0.0797\n",
            "Cohen's Kappa for affect_h between ir and wl: 0.0554\n",
            "Cohen's Kappa for availability_h between gpt and bs: 0.0308\n",
            "Cohen's Kappa for availability_h between gpt and fs: 0.0856\n",
            "Cohen's Kappa for availability_h between gpt and ir: 0.1313\n",
            "Cohen's Kappa for availability_h between gpt and wl: 0.0552\n",
            "Cohen's Kappa for availability_h between bs and fs: 0.1691\n",
            "Cohen's Kappa for availability_h between bs and ir: 0.0408\n",
            "Cohen's Kappa for availability_h between bs and wl: 0.0763\n",
            "Cohen's Kappa for availability_h between fs and ir: 0.0883\n",
            "Cohen's Kappa for availability_h between fs and wl: 0.0706\n",
            "Cohen's Kappa for availability_h between ir and wl: 0.0799\n",
            "Cohen's Kappa for representativeness_h between gpt and bs: 0.0173\n",
            "Cohen's Kappa for representativeness_h between gpt and fs: 0.0341\n",
            "Cohen's Kappa for representativeness_h between gpt and ir: 0.0282\n",
            "Cohen's Kappa for representativeness_h between gpt and wl: 0.0095\n",
            "Cohen's Kappa for representativeness_h between bs and fs: -0.0035\n",
            "Cohen's Kappa for representativeness_h between bs and ir: 0.0495\n",
            "Cohen's Kappa for representativeness_h between bs and wl: -0.0015\n",
            "Cohen's Kappa for representativeness_h between fs and ir: 0.0665\n",
            "Cohen's Kappa for representativeness_h between fs and wl: -0.0017\n",
            "Cohen's Kappa for representativeness_h between ir and wl: -0.0019\n",
            "Cohen's Kappa for confirmation_b between gpt and bs: 0.0303\n",
            "Cohen's Kappa for confirmation_b between gpt and fs: 0.1452\n",
            "Cohen's Kappa for confirmation_b between gpt and ir: 0.0429\n",
            "Cohen's Kappa for confirmation_b between gpt and wl: 0.0416\n",
            "Cohen's Kappa for confirmation_b between bs and fs: 0.1477\n",
            "Cohen's Kappa for confirmation_b between bs and ir: 0.0494\n",
            "Cohen's Kappa for confirmation_b between bs and wl: 0.0990\n",
            "Cohen's Kappa for confirmation_b between fs and ir: 0.0801\n",
            "Cohen's Kappa for confirmation_b between fs and wl: 0.0774\n",
            "Cohen's Kappa for confirmation_b between ir and wl: 0.0012\n",
            "Cohen's Kappa for all_or_nothing between gpt and bs: 0.0182\n",
            "Cohen's Kappa for all_or_nothing between gpt and fs: 0.0133\n",
            "Cohen's Kappa for all_or_nothing between gpt and ir: 0.0463\n",
            "Cohen's Kappa for all_or_nothing between gpt and wl: 0.0147\n",
            "Cohen's Kappa for all_or_nothing between bs and fs: 0.0847\n",
            "Cohen's Kappa for all_or_nothing between bs and ir: 0.0618\n",
            "Cohen's Kappa for all_or_nothing between bs and wl: 0.0896\n",
            "Cohen's Kappa for all_or_nothing between fs and ir: 0.0335\n",
            "Cohen's Kappa for all_or_nothing between fs and wl: 0.2630\n",
            "Cohen's Kappa for all_or_nothing between ir and wl: 0.0570\n",
            "\n",
            "Average Cohen's Kappa for each bias category:\n",
            "affect_h: 0.0833\n",
            "availability_h: 0.0828\n",
            "representativeness_h: 0.0197\n",
            "confirmation_b: 0.0715\n",
            "all_or_nothing: 0.0682\n"
          ]
        }
      ]
    },
    {
      "cell_type": "markdown",
      "source": [
        "### Weighted F1 score"
      ],
      "metadata": {
        "id": "LU_tdt7jAIiS"
      }
    },
    {
      "cell_type": "markdown",
      "source": [
        "#### Bias presence"
      ],
      "metadata": {
        "id": "1inCP4VqpsYj"
      }
    },
    {
      "cell_type": "code",
      "source": [
        "f1_results_bias_no_bias = {}\n",
        "\n",
        "annotator_pairs = list(itertools.combinations(annotators, 2))\n",
        "for annotator1, annotator2 in annotator_pairs:\n",
        "    col1 = [f\"{bias}_{annotator1}\" for bias in ['affect_h', 'availability_h', 'representativeness_h', 'confirmation_b', 'all_or_nothing']]\n",
        "    col2 = [f\"{bias}_{annotator2}\" for bias in ['affect_h', 'availability_h', 'representativeness_h', 'confirmation_b', 'all_or_nothing']]\n",
        "\n",
        "    col1 = [c for c in col1 if c in bias_presence_df.columns]\n",
        "    col2 = [c for c in col2 if c in bias_presence_df.columns]\n",
        "\n",
        "    if col1 and col2:\n",
        "        combined_col1 = bias_presence_df[col1].sum(axis=1).apply(lambda x: 1 if x > 0 else 0)\n",
        "        combined_col2 = bias_presence_df[col2].sum(axis=1).apply(lambda x: 1 if x > 0 else 0)\n",
        "\n",
        "        f1 = f1_score(combined_col1, combined_col2, average='weighted')\n",
        "        f1_results_bias_no_bias[(annotator1, annotator2)] = f1\n",
        "        print(f\"F1 Score for Bias/No Bias between {annotator1} and {annotator2}: {f1:.4f}\")"
      ],
      "metadata": {
        "id": "BnmhrI6oAKWK",
        "colab": {
          "base_uri": "https://localhost:8080/"
        },
        "outputId": "d45d07f6-c78a-41b0-aa65-cca9566c41ce"
      },
      "execution_count": null,
      "outputs": [
        {
          "output_type": "stream",
          "name": "stdout",
          "text": [
            "F1 Score for Bias/No Bias between gpt and bs: 0.1908\n",
            "F1 Score for Bias/No Bias between gpt and fs: 0.5161\n",
            "F1 Score for Bias/No Bias between gpt and ir: 0.3517\n",
            "F1 Score for Bias/No Bias between gpt and wl: 0.1846\n",
            "F1 Score for Bias/No Bias between bs and fs: 0.8347\n",
            "F1 Score for Bias/No Bias between bs and ir: 0.8893\n",
            "F1 Score for Bias/No Bias between bs and wl: 0.9464\n",
            "F1 Score for Bias/No Bias between fs and ir: 0.7126\n",
            "F1 Score for Bias/No Bias between fs and wl: 0.6655\n",
            "F1 Score for Bias/No Bias between ir and wl: 0.7969\n"
          ]
        }
      ]
    },
    {
      "cell_type": "markdown",
      "source": [
        "#### Each bias"
      ],
      "metadata": {
        "id": "VCuRaOh1pwl6"
      }
    },
    {
      "cell_type": "code",
      "source": [
        "f1_results_per_bias = {}\n",
        "for bias in ['affect_h', 'availability_h', 'representativeness_h', 'confirmation_b', 'all_or_nothing']:\n",
        "    f1_scores = {}\n",
        "    for annotator1, annotator2 in annotator_pairs:\n",
        "        col1 = f\"{bias}_{annotator1}\"\n",
        "        col2 = f\"{bias}_{annotator2}\"\n",
        "\n",
        "        if col1 in bias_presence_df.columns and col2 in bias_presence_df.columns:\n",
        "            f1 = f1_score(bias_presence_df[col1], bias_presence_df[col2], average='weighted')\n",
        "            f1_scores[(annotator1, annotator2)] = f1\n",
        "            print(f\"F1 Score for {bias} between {annotator1} and {annotator2}: {f1:.4f}\")\n",
        "\n",
        "    f1_results_per_bias[bias] = f1_scores"
      ],
      "metadata": {
        "id": "Y5n09Z-0RH2k"
      },
      "execution_count": null,
      "outputs": []
    },
    {
      "cell_type": "markdown",
      "source": [
        "### Gwet's AC1"
      ],
      "metadata": {
        "id": "V502zYTE9veH"
      }
    },
    {
      "cell_type": "markdown",
      "source": [
        "#### Bias presence"
      ],
      "metadata": {
        "id": "kk14KNRD9veI"
      }
    },
    {
      "cell_type": "code",
      "source": [
        "gwet_results_bias_no_bias = {}\n",
        "\n",
        "bias_no_bias_cols = [\n",
        "    f\"{bias}_{annotator}\" for bias in ['affect_h', 'availability_h', 'representativeness_h', 'confirmation_b', 'all_or_nothing']\n",
        "    for annotator in annotators if f\"{bias}_{annotator}\" in bias_presence_df.columns\n",
        "]\n",
        "\n",
        "if len(bias_no_bias_cols) >= 2:\n",
        "    df_bias_no_bias = bias_presence_df[bias_no_bias_cols].copy()\n",
        "    df_bias_no_bias.columns = [col.split('_')[-1] for col in bias_no_bias_cols]\n",
        "\n",
        "    cac_instance = CAC(df_bias_no_bias)\n",
        "    gwet_result = cac_instance.gwet()\n",
        "    gwet_results_bias_no_bias['bias_no_bias'] = gwet_result\n",
        "\n",
        "    print(\"Gwet's AC1 for Bias/No Bias:\")\n",
        "    print({\n",
        "        'est': {\n",
        "            'coefficient_value': gwet_result['est']['coefficient_value'],\n",
        "            'coefficient_name': gwet_result['est']['coefficient_name'],\n",
        "            'confidence_interval': gwet_result['est']['confidence_interval'],\n",
        "            'p_value': gwet_result['est']['p_value'],\n",
        "            'z': gwet_result['est']['z'],\n",
        "            'se': gwet_result['est']['se'],\n",
        "            'pa': gwet_result['est']['pa'],\n",
        "            'pe': gwet_result['est']['pe']\n",
        "        },\n",
        "        'weights': gwet_result['weights'],\n",
        "        'categories': gwet_result['categories']\n",
        "    })"
      ],
      "metadata": {
        "colab": {
          "base_uri": "https://localhost:8080/"
        },
        "outputId": "3f088bd1-2ea0-44f5-b362-e4547b6bdb2d",
        "id": "nsj4Uqk_9veI"
      },
      "execution_count": null,
      "outputs": [
        {
          "output_type": "stream",
          "name": "stdout",
          "text": [
            "Gwet's AC1 for Bias/No Bias:\n",
            "{'est': {'coefficient_value': 0.89103, 'coefficient_name': 'AC1', 'confidence_interval': (0.88736, 0.89469), 'p_value': 0.0, 'z': 476.77712, 'se': 0.00187, 'pa': 0.90179, 'pe': 0.09877}, 'weights': array([[1., 0.],\n",
            "       [0., 1.]]), 'categories': [0, 1]}\n"
          ]
        }
      ]
    },
    {
      "cell_type": "markdown",
      "source": [
        "#### For each bias"
      ],
      "metadata": {
        "id": "hT1ZZf6S9veI"
      }
    },
    {
      "cell_type": "code",
      "source": [
        "annotators = ['gpt', 'bs', 'fs', 'ir', 'wl']\n",
        "biases = ['affect_h', 'availability_h', 'representativeness_h', 'confirmation_b', 'all_or_nothing']\n",
        "\n",
        "gwet_results = {}\n",
        "\n",
        "for bias in biases:\n",
        "    annotator_cols = [f\"{bias}_{annotator}\" for annotator in annotators if f\"{bias}_{annotator}\" in bias_presence_df.columns]\n",
        "\n",
        "    if len(annotator_cols) >= 2:\n",
        "        df_bias = bias_presence_df[annotator_cols].copy()\n",
        "        df_bias.columns = [col.split('_')[-1] for col in annotator_cols]\n",
        "\n",
        "        cac_instance = CAC(df_bias)\n",
        "        gwet_result = cac_instance.gwet()\n",
        "        gwet_results[bias] = gwet_result\n",
        "\n",
        "        print(f\"Gwet's AC1 for {bias}:\")\n",
        "        print({\n",
        "            'est': {\n",
        "                'coefficient_value': gwet_result['est']['coefficient_value'],\n",
        "                'coefficient_name': gwet_result['est']['coefficient_name'],\n",
        "                'confidence_interval': gwet_result['est']['confidence_interval'],\n",
        "                'p_value': gwet_result['est']['p_value'],\n",
        "                'z': gwet_result['est']['z'],\n",
        "                'se': gwet_result['est']['se'],\n",
        "                'pa': gwet_result['est']['pa'],\n",
        "                'pe': gwet_result['est']['pe']\n",
        "            },\n",
        "            'weights': gwet_result['weights'],\n",
        "            'categories': gwet_result['categories']\n",
        "        })"
      ],
      "metadata": {
        "colab": {
          "base_uri": "https://localhost:8080/"
        },
        "outputId": "7fcc0bfa-df0a-41a2-9516-60508dcfb39b",
        "id": "huARhBec9veJ"
      },
      "execution_count": null,
      "outputs": [
        {
          "output_type": "stream",
          "name": "stdout",
          "text": [
            "Gwet's AC1 for affect_h:\n",
            "{'est': {'coefficient_value': 0.84474, 'coefficient_name': 'AC1', 'confidence_interval': (0.83452, 0.85495), 'p_value': 0.0, 'z': 162.14832, 'se': 0.00521, 'pa': 0.86702, 'pe': 0.14354}, 'weights': array([[1., 0.],\n",
            "       [0., 1.]]), 'categories': [0, 1]}\n",
            "Gwet's AC1 for availability_h:\n",
            "{'est': {'coefficient_value': 0.94464, 'coefficient_name': 'AC1', 'confidence_interval': (0.93889, 0.95038), 'p_value': 0.0, 'z': 322.46758, 'se': 0.00293, 'pa': 0.94778, 'pe': 0.05684}, 'weights': array([[1., 0.],\n",
            "       [0., 1.]]), 'categories': [0, 1]}\n",
            "Gwet's AC1 for representativeness_h:\n",
            "{'est': {'coefficient_value': 0.96498, 'coefficient_name': 'AC1', 'confidence_interval': (0.96059, 0.96937), 'p_value': 0.0, 'z': 431.01305, 'se': 0.00224, 'pa': 0.96619, 'pe': 0.03446}, 'weights': array([[1., 0.],\n",
            "       [0., 1.]]), 'categories': [0, 1]}\n",
            "Gwet's AC1 for confirmation_b:\n",
            "{'est': {'coefficient_value': 0.89187, 'coefficient_name': 'AC1', 'confidence_interval': (0.88364, 0.90009), 'p_value': 0.0, 'z': 212.56437, 'se': 0.0042, 'pa': 0.90303, 'pe': 0.10327}, 'weights': array([[1., 0.],\n",
            "       [0., 1.]]), 'categories': [0, 1]}\n",
            "Gwet's AC1 for all_or_nothing:\n",
            "{'est': {'coefficient_value': 0.81822, 'coefficient_name': 'AC1', 'confidence_interval': (0.80823, 0.8282), 'p_value': 0.0, 'z': 160.69232, 'se': 0.00509, 'pa': 0.84535, 'pe': 0.14926}, 'weights': array([[1., 0.],\n",
            "       [0., 1.]]), 'categories': [0, 1]}\n"
          ]
        }
      ]
    },
    {
      "cell_type": "markdown",
      "source": [
        "#### Bias presence per pair"
      ],
      "metadata": {
        "id": "nJ245fFv9veJ"
      }
    },
    {
      "cell_type": "code",
      "source": [
        "gwet_results_pairs_bias_no_bias = {}\n",
        "annotator_pairs = list(itertools.combinations(annotators, 2))\n",
        "\n",
        "bias_no_bias_cols = [\n",
        "    f\"{bias}_{annotator}\" for bias in biases\n",
        "    for annotator in annotators if f\"{bias}_{annotator}\" in bias_presence_df.columns\n",
        "]\n",
        "\n",
        "for annotator1, annotator2 in annotator_pairs:\n",
        "    col1 = [f\"{bias}_{annotator1}\" for bias in biases if f\"{bias}_{annotator1}\" in bias_presence_df.columns]\n",
        "    col2 = [f\"{bias}_{annotator2}\" for bias in biases if f\"{bias}_{annotator2}\" in bias_presence_df.columns]\n",
        "\n",
        "    if col1 and col2:\n",
        "        combined_col1 = bias_presence_df[col1].sum(axis=1).apply(lambda x: 1 if x > 0 else 0)\n",
        "        combined_col2 = bias_presence_df[col2].sum(axis=1).apply(lambda x: 1 if x > 0 else 0)\n",
        "\n",
        "        df_pair = pd.DataFrame({\n",
        "            annotator1: combined_col1,\n",
        "            annotator2: combined_col2\n",
        "        })\n",
        "\n",
        "        cac_instance = CAC(df_pair)\n",
        "        gwet_result = cac_instance.gwet()\n",
        "        gwet_results_pairs_bias_no_bias[(annotator1, annotator2)] = gwet_result\n",
        "\n",
        "        print(f\"Gwet's AC1 for Bias/No Bias between {annotator1} and {annotator2}:\")\n",
        "        print({\n",
        "            'est': {\n",
        "                'coefficient_value': gwet_result['est']['coefficient_value'],\n",
        "                'coefficient_name': gwet_result['est']['coefficient_name'],\n",
        "                'confidence_interval': gwet_result['est']['confidence_interval'],\n",
        "                'p_value': gwet_result['est']['p_value'],\n",
        "                'z': gwet_result['est']['z'],\n",
        "                'se': gwet_result['est']['se'],\n",
        "                'pa': gwet_result['est']['pa'],\n",
        "                'pe': gwet_result['est']['pe']\n",
        "            },\n",
        "            'weights': gwet_result['weights'],\n",
        "            'categories': gwet_result['categories']\n",
        "        })\n"
      ],
      "metadata": {
        "colab": {
          "base_uri": "https://localhost:8080/"
        },
        "outputId": "f7537e0b-649f-4720-8ae0-80e5619569d5",
        "id": "tN2LLiOW9veJ"
      },
      "execution_count": null,
      "outputs": [
        {
          "output_type": "stream",
          "name": "stdout",
          "text": [
            "Gwet's AC1 for Bias/No Bias between gpt and bs:\n",
            "{'est': {'coefficient_value': -0.2873, 'coefficient_name': 'AC1', 'confidence_interval': (-0.32736, -0.24724), 'p_value': 0.0, 'z': -14.06262, 'se': 0.02043, 'pa': 0.31577, 'pe': 0.46848}, 'weights': array([[1., 0.],\n",
            "       [0., 1.]]), 'categories': [0, 1]}\n",
            "Gwet's AC1 for Bias/No Bias between gpt and fs:\n",
            "{'est': {'coefficient_value': 0.04141, 'coefficient_name': 'AC1', 'confidence_interval': (0.0056, 0.07722), 'p_value': 0.02342442257892019, 'z': 2.2676, 'se': 0.01826, 'pa': 0.52051, 'pe': 0.49979}, 'weights': array([[1., 0.],\n",
            "       [0., 1.]]), 'categories': [0, 1]}\n",
            "Gwet's AC1 for Bias/No Bias between gpt and ir:\n",
            "{'est': {'coefficient_value': -0.18152, 'coefficient_name': 'AC1', 'confidence_interval': (-0.21843, -0.14461), 'p_value': 0.0, 'z': -9.64408, 'se': 0.01882, 'pa': 0.39847, 'pe': 0.49088}, 'weights': array([[1., 0.],\n",
            "       [0., 1.]]), 'categories': [0, 1]}\n",
            "Gwet's AC1 for Bias/No Bias between gpt and wl:\n",
            "{'est': {'coefficient_value': -0.28986, 'coefficient_name': 'AC1', 'confidence_interval': (-0.33005, -0.24967), 'p_value': 0.0, 'z': -14.14116, 'se': 0.0205, 'pa': 0.3131, 'pe': 0.46747}, 'weights': array([[1., 0.],\n",
            "       [0., 1.]]), 'categories': [0, 1]}\n",
            "Gwet's AC1 for Bias/No Bias between bs and fs:\n",
            "{'est': {'coefficient_value': 0.67475, 'coefficient_name': 'AC1', 'confidence_interval': (0.64957, 0.69993), 'p_value': 0.0, 'z': 52.54125, 'se': 0.01284, 'pa': 0.75725, 'pe': 0.25367}, 'weights': array([[1., 0.],\n",
            "       [0., 1.]]), 'categories': [0, 1]}\n",
            "Gwet's AC1 for Bias/No Bias between bs and ir:\n",
            "{'est': {'coefficient_value': 0.81436, 'coefficient_name': 'AC1', 'confidence_interval': (0.79648, 0.83224), 'p_value': 0.0, 'z': 89.29716, 'se': 0.00912, 'pa': 0.84528, 'pe': 0.16658}, 'weights': array([[1., 0.],\n",
            "       [0., 1.]]), 'categories': [0, 1]}\n",
            "Gwet's AC1 for Bias/No Bias between bs and wl:\n",
            "{'est': {'coefficient_value': 0.94458, 'coefficient_name': 'AC1', 'confidence_interval': (0.93567, 0.95349), 'p_value': 0.0, 'z': 207.83756, 'se': 0.00454, 'pa': 0.94798, 'pe': 0.06135}, 'weights': array([[1., 0.],\n",
            "       [0., 1.]]), 'categories': [0, 1]}\n",
            "Gwet's AC1 for Bias/No Bias between fs and ir:\n",
            "{'est': {'coefficient_value': 0.61175, 'coefficient_name': 'AC1', 'confidence_interval': (0.5834, 0.6401), 'p_value': 0.0, 'z': 42.3073, 'se': 0.01446, 'pa': 0.73925, 'pe': 0.32838}, 'weights': array([[1., 0.],\n",
            "       [0., 1.]]), 'categories': [0, 1]}\n",
            "Gwet's AC1 for Bias/No Bias between fs and wl:\n",
            "{'est': {'coefficient_value': 0.6644, 'coefficient_name': 'AC1', 'confidence_interval': (0.63882, 0.68998), 'p_value': 0.0, 'z': 50.92934, 'se': 0.01305, 'pa': 0.74858, 'pe': 0.25085}, 'weights': array([[1., 0.],\n",
            "       [0., 1.]]), 'categories': [0, 1]}\n",
            "Gwet's AC1 for Bias/No Bias between ir and wl:\n",
            "{'est': {'coefficient_value': 0.81349, 'coefficient_name': 'AC1', 'confidence_interval': (0.79559, 0.83139), 'p_value': 0.0, 'z': 89.11487, 'se': 0.00913, 'pa': 0.84395, 'pe': 0.1633}, 'weights': array([[1., 0.],\n",
            "       [0., 1.]]), 'categories': [0, 1]}\n"
          ]
        }
      ]
    },
    {
      "cell_type": "markdown",
      "source": [
        "#### Each bias per pair"
      ],
      "metadata": {
        "id": "_ny8jOM59veJ"
      }
    },
    {
      "cell_type": "code",
      "source": [
        "annotators = ['gpt','bs', 'fs', 'ir', 'wl']\n",
        "biases = ['affect_h', 'availability_h', 'representativeness_h', 'confirmation_b', 'all_or_nothing']\n",
        "\n",
        "gwet_results_pairs = {}\n",
        "\n",
        "for bias in biases:\n",
        "    annotator_pairs = list(itertools.combinations(annotators, 2))\n",
        "\n",
        "    pairwise_results = {}\n",
        "    for annotator1, annotator2 in annotator_pairs:\n",
        "        col1 = f\"{bias}_{annotator1}\"\n",
        "        col2 = f\"{bias}_{annotator2}\"\n",
        "\n",
        "        if col1 in bias_presence_df.columns and col2 in bias_presence_df.columns:\n",
        "            df_pair = bias_presence_df[[col1, col2]].copy()\n",
        "            df_pair.columns = [annotator1, annotator2]\n",
        "\n",
        "            cac_instance = CAC(df_pair)\n",
        "            gwet_result = cac_instance.gwet()\n",
        "            pairwise_results[(annotator1, annotator2)] = gwet_result\n",
        "\n",
        "            print(f\"Gwet's AC1 for {bias} between {annotator1} and {annotator2}:\")\n",
        "            print({\n",
        "                'est': {\n",
        "                    'coefficient_value': gwet_result['est']['coefficient_value'],\n",
        "                    'coefficient_name': gwet_result['est']['coefficient_name'],\n",
        "                    'confidence_interval': gwet_result['est']['confidence_interval'],\n",
        "                    'p_value': gwet_result['est']['p_value'],\n",
        "                    'z': gwet_result['est']['z'],\n",
        "                    'se': gwet_result['est']['se'],\n",
        "                    'pa': gwet_result['est']['pa'],\n",
        "                    'pe': gwet_result['est']['pe']\n",
        "                },\n",
        "                'weights': gwet_result['weights'],\n",
        "                'categories': gwet_result['categories']\n",
        "            })\n",
        "\n",
        "    gwet_results_pairs[bias] = pairwise_results"
      ],
      "metadata": {
        "colab": {
          "base_uri": "https://localhost:8080/"
        },
        "outputId": "ba1e47bc-7d59-43db-f4e3-84dc6db8e1ba",
        "id": "kVS_Q1qR9veJ"
      },
      "execution_count": null,
      "outputs": [
        {
          "output_type": "stream",
          "name": "stdout",
          "text": [
            "Gwet's AC1 for affect_h between gpt and bs:\n",
            "{'est': {'coefficient_value': 0.87054, 'coefficient_name': 'AC1', 'confidence_interval': (0.85619, 0.88488), 'p_value': 0.0, 'z': 118.99981, 'se': 0.00732, 'pa': 0.8853, 'pe': 0.11401}, 'weights': array([[1., 0.],\n",
            "       [0., 1.]]), 'categories': [0, 1]}\n",
            "Gwet's AC1 for affect_h between gpt and fs:\n",
            "{'est': {'coefficient_value': 0.70196, 'coefficient_name': 'AC1', 'confidence_interval': (0.67785, 0.72608), 'p_value': 0.0, 'z': 57.07656, 'se': 0.0123, 'pa': 0.78026, 'pe': 0.26271}, 'weights': array([[1., 0.],\n",
            "       [0., 1.]]), 'categories': [0, 1]}\n",
            "Gwet's AC1 for affect_h between gpt and ir:\n",
            "{'est': {'coefficient_value': 0.82411, 'coefficient_name': 'AC1', 'confidence_interval': (0.80685, 0.84138), 'p_value': 0.0, 'z': 93.59129, 'se': 0.00881, 'pa': 0.85128, 'pe': 0.15449}, 'weights': array([[1., 0.],\n",
            "       [0., 1.]]), 'categories': [0, 1]}\n",
            "Gwet's AC1 for affect_h between gpt and wl:\n",
            "{'est': {'coefficient_value': 0.86564, 'coefficient_name': 'AC1', 'confidence_interval': (0.85097, 0.88031), 'p_value': 0.0, 'z': 115.70776, 'se': 0.00748, 'pa': 0.88163, 'pe': 0.11897}, 'weights': array([[1., 0.],\n",
            "       [0., 1.]]), 'categories': [0, 1]}\n",
            "Gwet's AC1 for affect_h between bs and fs:\n",
            "{'est': {'coefficient_value': 0.76308, 'coefficient_name': 'AC1', 'confidence_interval': (0.74249, 0.78368), 'p_value': 0.0, 'z': 72.64542, 'se': 0.0105, 'pa': 0.80694, 'pe': 0.1851}, 'weights': array([[1., 0.],\n",
            "       [0., 1.]]), 'categories': [0, 1]}\n",
            "Gwet's AC1 for affect_h between bs and ir:\n",
            "{'est': {'coefficient_value': 0.93815, 'coefficient_name': 'AC1', 'confidence_interval': (0.92871, 0.94759), 'p_value': 0.0, 'z': 194.83315, 'se': 0.00482, 'pa': 0.94198, 'pe': 0.06197}, 'weights': array([[1., 0.],\n",
            "       [0., 1.]]), 'categories': [0, 1]}\n",
            "Gwet's AC1 for affect_h between bs and wl:\n",
            "{'est': {'coefficient_value': 0.98056, 'coefficient_name': 'AC1', 'confidence_interval': (0.97547, 0.98566), 'p_value': 0.0, 'z': 377.34073, 'se': 0.0026, 'pa': 0.98099, 'pe': 0.02209}, 'weights': array([[1., 0.],\n",
            "       [0., 1.]]), 'categories': [0, 1]}\n",
            "Gwet's AC1 for affect_h between fs and ir:\n",
            "{'est': {'coefficient_value': 0.73828, 'coefficient_name': 'AC1', 'confidence_interval': (0.71618, 0.76038), 'p_value': 0.0, 'z': 65.50835, 'se': 0.01127, 'pa': 0.79627, 'pe': 0.22156}, 'weights': array([[1., 0.],\n",
            "       [0., 1.]]), 'categories': [0, 1]}\n",
            "Gwet's AC1 for affect_h between fs and wl:\n",
            "{'est': {'coefficient_value': 0.76547, 'coefficient_name': 'AC1', 'confidence_interval': (0.74495, 0.786), 'p_value': 0.0, 'z': 73.12835, 'se': 0.01047, 'pa': 0.80994, 'pe': 0.18958}, 'weights': array([[1., 0.],\n",
            "       [0., 1.]]), 'categories': [0, 1]}\n",
            "Gwet's AC1 for affect_h between ir and wl:\n",
            "{'est': {'coefficient_value': 0.931, 'coefficient_name': 'AC1', 'confidence_interval': (0.92098, 0.94103), 'p_value': 0.0, 'z': 182.08457, 'se': 0.00511, 'pa': 0.93565, 'pe': 0.06726}, 'weights': array([[1., 0.],\n",
            "       [0., 1.]]), 'categories': [0, 1]}\n",
            "Gwet's AC1 for availability_h between gpt and bs:\n",
            "{'est': {'coefficient_value': 0.93119, 'coefficient_name': 'AC1', 'confidence_interval': (0.92119, 0.94119), 'p_value': 0.0, 'z': 182.60135, 'se': 0.0051, 'pa': 0.93565, 'pe': 0.06478}, 'weights': array([[1., 0.],\n",
            "       [0., 1.]]), 'categories': [0, 1]}\n",
            "Gwet's AC1 for availability_h between gpt and fs:\n",
            "{'est': {'coefficient_value': 0.90139, 'coefficient_name': 'AC1', 'confidence_interval': (0.8891, 0.91369), 'p_value': 0.0, 'z': 143.76427, 'se': 0.00627, 'pa': 0.91097, 'pe': 0.09713}, 'weights': array([[1., 0.],\n",
            "       [0., 1.]]), 'categories': [0, 1]}\n",
            "Gwet's AC1 for availability_h between gpt and ir:\n",
            "{'est': {'coefficient_value': 0.91067, 'coefficient_name': 'AC1', 'confidence_interval': (0.89903, 0.92231), 'p_value': 0.0, 'z': 153.40514, 'se': 0.00594, 'pa': 0.91897, 'pe': 0.09293}, 'weights': array([[1., 0.],\n",
            "       [0., 1.]]), 'categories': [0, 1]}\n",
            "Gwet's AC1 for availability_h between gpt and wl:\n",
            "{'est': {'coefficient_value': 0.93451, 'coefficient_name': 'AC1', 'confidence_interval': (0.92477, 0.94424), 'p_value': 0.0, 'z': 188.22081, 'se': 0.00496, 'pa': 0.93865, 'pe': 0.06322}, 'weights': array([[1., 0.],\n",
            "       [0., 1.]]), 'categories': [0, 1]}\n",
            "Gwet's AC1 for availability_h between bs and fs:\n",
            "{'est': {'coefficient_value': 0.96092, 'coefficient_name': 'AC1', 'confidence_interval': (0.95355, 0.96829), 'p_value': 0.0, 'z': 255.65785, 'se': 0.00376, 'pa': 0.96265, 'pe': 0.04432}, 'weights': array([[1., 0.],\n",
            "       [0., 1.]]), 'categories': [0, 1]}\n",
            "Gwet's AC1 for availability_h between bs and ir:\n",
            "{'est': {'coefficient_value': 0.95971, 'coefficient_name': 'AC1', 'confidence_interval': (0.95225, 0.96718), 'p_value': 0.0, 'z': 251.9154, 'se': 0.00381, 'pa': 0.96132, 'pe': 0.03985}, 'weights': array([[1., 0.],\n",
            "       [0., 1.]]), 'categories': [0, 1]}\n",
            "Gwet's AC1 for availability_h between bs and wl:\n",
            "{'est': {'coefficient_value': 0.99227, 'coefficient_name': 'AC1', 'confidence_interval': (0.98909, 0.99544), 'p_value': 0.0, 'z': 612.91763, 'se': 0.00162, 'pa': 0.99233, 'pe': 0.0083}, 'weights': array([[1., 0.],\n",
            "       [0., 1.]]), 'categories': [0, 1]}\n",
            "Gwet's AC1 for availability_h between fs and ir:\n",
            "{'est': {'coefficient_value': 0.92805, 'coefficient_name': 'AC1', 'confidence_interval': (0.91777, 0.93833), 'p_value': 0.0, 'z': 177.02261, 'se': 0.00524, 'pa': 0.93331, 'pe': 0.07314}, 'weights': array([[1., 0.],\n",
            "       [0., 1.]]), 'categories': [0, 1]}\n",
            "Gwet's AC1 for availability_h between fs and wl:\n",
            "{'est': {'coefficient_value': 0.95785, 'coefficient_name': 'AC1', 'confidence_interval': (0.95019, 0.96551), 'p_value': 0.0, 'z': 245.26161, 'se': 0.00391, 'pa': 0.95965, 'pe': 0.04273}, 'weights': array([[1., 0.],\n",
            "       [0., 1.]]), 'categories': [0, 1]}\n",
            "Gwet's AC1 for availability_h between ir and wl:\n",
            "{'est': {'coefficient_value': 0.9629, 'coefficient_name': 'AC1', 'confidence_interval': (0.95575, 0.97006), 'p_value': 0.0, 'z': 263.95723, 'se': 0.00365, 'pa': 0.96432, 'pe': 0.03825}, 'weights': array([[1., 0.],\n",
            "       [0., 1.]]), 'categories': [0, 1]}\n",
            "Gwet's AC1 for representativeness_h between gpt and bs:\n",
            "{'est': {'coefficient_value': 0.93806, 'coefficient_name': 'AC1', 'confidence_interval': (0.92863, 0.94749), 'p_value': 0.0, 'z': 195.06669, 'se': 0.00481, 'pa': 0.94165, 'pe': 0.05791}, 'weights': array([[1., 0.],\n",
            "       [0., 1.]]), 'categories': [0, 1]}\n",
            "Gwet's AC1 for representativeness_h between gpt and fs:\n",
            "{'est': {'coefficient_value': 0.93685, 'coefficient_name': 'AC1', 'confidence_interval': (0.92732, 0.94639), 'p_value': 0.0, 'z': 192.64051, 'se': 0.00486, 'pa': 0.94065, 'pe': 0.0601}, 'weights': array([[1., 0.],\n",
            "       [0., 1.]]), 'categories': [0, 1]}\n",
            "Gwet's AC1 for representativeness_h between gpt and ir:\n",
            "{'est': {'coefficient_value': 0.91953, 'coefficient_name': 'AC1', 'confidence_interval': (0.90861, 0.93045), 'p_value': 0.0, 'z': 165.11212, 'se': 0.00557, 'pa': 0.92564, 'pe': 0.0759}, 'weights': array([[1., 0.],\n",
            "       [0., 1.]]), 'categories': [0, 1]}\n",
            "Gwet's AC1 for representativeness_h between gpt and wl:\n",
            "{'est': {'coefficient_value': 0.93922, 'coefficient_name': 'AC1', 'confidence_interval': (0.9299, 0.94855), 'p_value': 0.0, 'z': 197.41249, 'se': 0.00476, 'pa': 0.94265, 'pe': 0.05634}, 'weights': array([[1., 0.],\n",
            "       [0., 1.]]), 'categories': [0, 1]}\n",
            "Gwet's AC1 for representativeness_h between bs and fs:\n",
            "{'est': {'coefficient_value': 0.99227, 'coefficient_name': 'AC1', 'confidence_interval': (0.9891, 0.99544), 'p_value': 0.0, 'z': 613.32964, 'se': 0.00162, 'pa': 0.99233, 'pe': 0.00764}, 'weights': array([[1., 0.],\n",
            "       [0., 1.]]), 'categories': [0, 1]}\n",
            "Gwet's AC1 for representativeness_h between bs and ir:\n",
            "{'est': {'coefficient_value': 0.97608, 'coefficient_name': 'AC1', 'confidence_interval': (0.9704, 0.98175), 'p_value': 0.0, 'z': 337.46992, 'se': 0.00289, 'pa': 0.97666, 'pe': 0.02437}, 'weights': array([[1., 0.],\n",
            "       [0., 1.]]), 'categories': [0, 1]}\n",
            "Gwet's AC1 for representativeness_h between bs and wl:\n",
            "{'est': {'coefficient_value': 0.99632, 'coefficient_name': 'AC1', 'confidence_interval': (0.99414, 0.9985), 'p_value': 0.0, 'z': 895.82037, 'se': 0.00111, 'pa': 0.99633, 'pe': 0.00366}, 'weights': array([[1., 0.],\n",
            "       [0., 1.]]), 'categories': [0, 1]}\n",
            "Gwet's AC1 for representativeness_h between fs and ir:\n",
            "{'est': {'coefficient_value': 0.97431, 'coefficient_name': 'AC1', 'confidence_interval': (0.96842, 0.9802), 'p_value': 0.0, 'z': 324.42742, 'se': 0.003, 'pa': 0.97499, 'pe': 0.02664}, 'weights': array([[1., 0.],\n",
            "       [0., 1.]]), 'categories': [0, 1]}\n",
            "Gwet's AC1 for representativeness_h between fs and wl:\n",
            "{'est': {'coefficient_value': 0.99396, 'coefficient_name': 'AC1', 'confidence_interval': (0.99116, 0.99676), 'p_value': 0.0, 'z': 696.20854, 'se': 0.00143, 'pa': 0.994, 'pe': 0.00598}, 'weights': array([[1., 0.],\n",
            "       [0., 1.]]), 'categories': [0, 1]}\n",
            "Gwet's AC1 for representativeness_h between ir and wl:\n",
            "{'est': {'coefficient_value': 0.97646, 'coefficient_name': 'AC1', 'confidence_interval': (0.97084, 0.98208), 'p_value': 0.0, 'z': 340.65875, 'se': 0.00287, 'pa': 0.97699, 'pe': 0.02274}, 'weights': array([[1., 0.],\n",
            "       [0., 1.]]), 'categories': [0, 1]}\n",
            "Gwet's AC1 for confirmation_b between gpt and bs:\n",
            "{'est': {'coefficient_value': 0.82259, 'coefficient_name': 'AC1', 'confidence_interval': (0.80531, 0.83988), 'p_value': 0.0, 'z': 93.33053, 'se': 0.00881, 'pa': 0.84862, 'pe': 0.14668}, 'weights': array([[1., 0.],\n",
            "       [0., 1.]]), 'categories': [0, 1]}\n",
            "Gwet's AC1 for confirmation_b between gpt and fs:\n",
            "{'est': {'coefficient_value': 0.79374, 'coefficient_name': 'AC1', 'confidence_interval': (0.77458, 0.8129), 'p_value': 0.0, 'z': 81.23343, 'se': 0.00977, 'pa': 0.83328, 'pe': 0.19168}, 'weights': array([[1., 0.],\n",
            "       [0., 1.]]), 'categories': [0, 1]}\n",
            "Gwet's AC1 for confirmation_b between gpt and ir:\n",
            "{'est': {'coefficient_value': 0.79663, 'coefficient_name': 'AC1', 'confidence_interval': (0.7778, 0.81545), 'p_value': 0.0, 'z': 82.9771, 'se': 0.0096, 'pa': 0.83128, 'pe': 0.17038}, 'weights': array([[1., 0.],\n",
            "       [0., 1.]]), 'categories': [0, 1]}\n",
            "Gwet's AC1 for confirmation_b between gpt and wl:\n",
            "{'est': {'coefficient_value': 0.82785, 'coefficient_name': 'AC1', 'confidence_interval': (0.81087, 0.84483), 'p_value': 0.0, 'z': 95.60262, 'se': 0.00866, 'pa': 0.85262, 'pe': 0.14388}, 'weights': array([[1., 0.],\n",
            "       [0., 1.]]), 'categories': [0, 1]}\n",
            "Gwet's AC1 for confirmation_b between bs and fs:\n",
            "{'est': {'coefficient_value': 0.93011, 'coefficient_name': 'AC1', 'confidence_interval': (0.91999, 0.94024), 'p_value': 0.0, 'z': 180.04786, 'se': 0.00517, 'pa': 0.93531, 'pe': 0.07437}, 'weights': array([[1., 0.],\n",
            "       [0., 1.]]), 'categories': [0, 1]}\n",
            "Gwet's AC1 for confirmation_b between bs and ir:\n",
            "{'est': {'coefficient_value': 0.95019, 'coefficient_name': 'AC1', 'confidence_interval': (0.94181, 0.95857), 'p_value': 0.0, 'z': 222.35154, 'se': 0.00427, 'pa': 0.95265, 'pe': 0.0494}, 'weights': array([[1., 0.],\n",
            "       [0., 1.]]), 'categories': [0, 1]}\n",
            "Gwet's AC1 for confirmation_b between bs and wl:\n",
            "{'est': {'coefficient_value': 0.98301, 'coefficient_name': 'AC1', 'confidence_interval': (0.97826, 0.98776), 'p_value': 0.0, 'z': 405.82697, 'se': 0.00242, 'pa': 0.98333, 'pe': 0.0185}, 'weights': array([[1., 0.],\n",
            "       [0., 1.]]), 'categories': [0, 1]}\n",
            "Gwet's AC1 for confirmation_b between fs and ir:\n",
            "{'est': {'coefficient_value': 0.89696, 'coefficient_name': 'AC1', 'confidence_interval': (0.88435, 0.90956), 'p_value': 0.0, 'z': 139.50874, 'se': 0.00643, 'pa': 0.9073, 'pe': 0.10041}, 'weights': array([[1., 0.],\n",
            "       [0., 1.]]), 'categories': [0, 1]}\n",
            "Gwet's AC1 for confirmation_b between fs and wl:\n",
            "{'est': {'coefficient_value': 0.92747, 'coefficient_name': 'AC1', 'confidence_interval': (0.91716, 0.93779), 'p_value': 0.0, 'z': 176.33554, 'se': 0.00526, 'pa': 0.93264, 'pe': 0.07128}, 'weights': array([[1., 0.],\n",
            "       [0., 1.]]), 'categories': [0, 1]}\n",
            "Gwet's AC1 for confirmation_b between ir and wl:\n",
            "{'est': {'coefficient_value': 0.95106, 'coefficient_name': 'AC1', 'confidence_interval': (0.94277, 0.95935), 'p_value': 0.0, 'z': 224.94685, 'se': 0.00423, 'pa': 0.95332, 'pe': 0.04623}, 'weights': array([[1., 0.],\n",
            "       [0., 1.]]), 'categories': [0, 1]}\n",
            "Gwet's AC1 for all_or_nothing between gpt and bs:\n",
            "{'est': {'coefficient_value': 0.48975, 'coefficient_name': 'AC1', 'confidence_interval': (0.45736, 0.52214), 'p_value': 0.0, 'z': 29.6438, 'se': 0.01652, 'pa': 0.64355, 'pe': 0.30142}, 'weights': array([[1., 0.],\n",
            "       [0., 1.]]), 'categories': [0, 1]}\n",
            "Gwet's AC1 for all_or_nothing between gpt and fs:\n",
            "{'est': {'coefficient_value': 0.49064, 'coefficient_name': 'AC1', 'confidence_interval': (0.45829, 0.52298), 'p_value': 0.0, 'z': 29.74246, 'se': 0.0165, 'pa': 0.64288, 'pe': 0.29889}, 'weights': array([[1., 0.],\n",
            "       [0., 1.]]), 'categories': [0, 1]}\n",
            "Gwet's AC1 for all_or_nothing between gpt and ir:\n",
            "{'est': {'coefficient_value': 0.49015, 'coefficient_name': 'AC1', 'confidence_interval': (0.45769, 0.52261), 'p_value': 0.0, 'z': 29.60713, 'se': 0.01656, 'pa': 0.64922, 'pe': 0.31199}, 'weights': array([[1., 0.],\n",
            "       [0., 1.]]), 'categories': [0, 1]}\n",
            "Gwet's AC1 for all_or_nothing between gpt and wl:\n",
            "{'est': {'coefficient_value': 0.4919, 'coefficient_name': 'AC1', 'confidence_interval': (0.4596, 0.5242), 'p_value': 0.0, 'z': 29.85937, 'se': 0.01647, 'pa': 0.64355, 'pe': 0.29846}, 'weights': array([[1., 0.],\n",
            "       [0., 1.]]), 'categories': [0, 1]}\n",
            "Gwet's AC1 for all_or_nothing between bs and fs:\n",
            "{'est': {'coefficient_value': 0.98647, 'coefficient_name': 'AC1', 'confidence_interval': (0.98224, 0.99069), 'p_value': 0.0, 'z': 457.87452, 'se': 0.00215, 'pa': 0.98666, 'pe': 0.01456}, 'weights': array([[1., 0.],\n",
            "       [0., 1.]]), 'categories': [0, 1]}\n",
            "Gwet's AC1 for all_or_nothing between bs and ir:\n",
            "{'est': {'coefficient_value': 0.96579, 'coefficient_name': 'AC1', 'confidence_interval': (0.95894, 0.97264), 'p_value': 0.0, 'z': 276.4855, 'se': 0.00349, 'pa': 0.96699, 'pe': 0.03504}, 'weights': array([[1., 0.],\n",
            "       [0., 1.]]), 'categories': [0, 1]}\n",
            "Gwet's AC1 for all_or_nothing between bs and wl:\n",
            "{'est': {'coefficient_value': 0.98715, 'coefficient_name': 'AC1', 'confidence_interval': (0.98304, 0.99126), 'p_value': 0.0, 'z': 470.55996, 'se': 0.0021, 'pa': 0.98733, 'pe': 0.01391}, 'weights': array([[1., 0.],\n",
            "       [0., 1.]]), 'categories': [0, 1]}\n",
            "Gwet's AC1 for all_or_nothing between fs and ir:\n",
            "{'est': {'coefficient_value': 0.96868, 'coefficient_name': 'AC1', 'confidence_interval': (0.96215, 0.97521), 'p_value': 0.0, 'z': 290.75356, 'se': 0.00333, 'pa': 0.96966, 'pe': 0.03118}, 'weights': array([[1., 0.],\n",
            "       [0., 1.]]), 'categories': [0, 1]}\n",
            "Gwet's AC1 for all_or_nothing between fs and wl:\n",
            "{'est': {'coefficient_value': 0.99259, 'coefficient_name': 'AC1', 'confidence_interval': (0.98948, 0.9957), 'p_value': 0.0, 'z': 625.95524, 'se': 0.00159, 'pa': 0.99266, 'pe': 0.00995}, 'weights': array([[1., 0.],\n",
            "       [0., 1.]]), 'categories': [0, 1]}\n",
            "Gwet's AC1 for all_or_nothing between ir and wl:\n",
            "{'est': {'coefficient_value': 0.97008, 'coefficient_name': 'AC1', 'confidence_interval': (0.9637, 0.97646), 'p_value': 0.0, 'z': 298.17075, 'se': 0.00325, 'pa': 0.97099, 'pe': 0.03053}, 'weights': array([[1., 0.],\n",
            "       [0., 1.]]), 'categories': [0, 1]}\n"
          ]
        }
      ]
    },
    {
      "cell_type": "markdown",
      "source": [
        "## Human vs GPT"
      ],
      "metadata": {
        "id": "Xrlp0jnY5J0t"
      }
    },
    {
      "cell_type": "markdown",
      "source": [
        "### IAA metrics"
      ],
      "metadata": {
        "id": "2axfg-Wawqpj"
      }
    },
    {
      "cell_type": "code",
      "source": [
        "import pandas as pd\n",
        "import numpy as np\n",
        "from statsmodels.stats.inter_rater import fleiss_kappa\n",
        "from sklearn.metrics import cohen_kappa_score, f1_score"
      ],
      "metadata": {
        "id": "Qzdoqm4ly6z3"
      },
      "execution_count": null,
      "outputs": []
    },
    {
      "cell_type": "code",
      "source": [
        "df = pd.read_excel('/content/drive/MyDrive/MA thesis/Results/Iteration 2/merged_FS_gpt_unclear.xlsx')"
      ],
      "metadata": {
        "id": "rJE_Sg7gwt69"
      },
      "execution_count": null,
      "outputs": []
    },
    {
      "cell_type": "markdown",
      "source": [
        "#### Gwet's AC1"
      ],
      "metadata": {
        "id": "ImkmWhrPqeBa"
      }
    },
    {
      "cell_type": "code",
      "source": [
        "biases     = ['affect_h', 'availability_h', 'representativeness_h', 'confirmation_b', 'all_or_nothing']\n",
        "annotators = ['fs', 'gpt']\n",
        "\n",
        "bias_presence_df = pd.DataFrame()\n",
        "for bias in biases:\n",
        "    for ann in annotators:\n",
        "        col = f\"{bias}_{ann}\"\n",
        "        if col in df.columns:\n",
        "            bias_presence_df[col] = df[col].fillna(0).astype(int)\n",
        "\n",
        "bias_presence_df['fs']  = (\n",
        "    bias_presence_df[[f\"{b}_fs\" for b in biases]]\n",
        "    .sum(axis=1).ge(1).astype(int)\n",
        ")\n",
        "bias_presence_df['gpt'] = (\n",
        "    bias_presence_df[[f\"{b}_gpt\" for b in biases]]\n",
        "    .sum(axis=1).ge(1).astype(int)\n",
        ")\n",
        "\n",
        "df_total = bias_presence_df[['fs','gpt']].copy()\n",
        "df_total.columns = annotators\n",
        "cac_total = CAC(df_total)\n",
        "gwet_total = cac_total.gwet()\n",
        "\n",
        "print(\"Gwet's AC1 for Total (Bias vs No Bias):\")\n",
        "print({\n",
        "    'est': {\n",
        "        'coefficient_value':    gwet_total['est']['coefficient_value'],\n",
        "        'coefficient_name':     gwet_total['est']['coefficient_name'],\n",
        "        'confidence_interval':  gwet_total['est']['confidence_interval'],\n",
        "        'p_value':              gwet_total['est']['p_value'],\n",
        "        'z':                    gwet_total['est']['z'],\n",
        "        'se':                   gwet_total['est']['se'],\n",
        "        'pa':                   gwet_total['est']['pa'],\n",
        "        'pe':                   gwet_total['est']['pe']\n",
        "    },\n",
        "    'weights':    gwet_total['weights'],\n",
        "    'categories': gwet_total['categories']\n",
        "})\n",
        "\n",
        "for bias in biases:\n",
        "    cols = [f\"{bias}_fs\", f\"{bias}_gpt\"]\n",
        "    if all(c in bias_presence_df for c in cols):\n",
        "        df_bias = bias_presence_df[cols].copy()\n",
        "        df_bias.columns = annotators\n",
        "        cac_bias = CAC(df_bias)\n",
        "        res = cac_bias.gwet()\n",
        "        print(f\"\\nGwet's AC1 for {bias}:\")\n",
        "        print({\n",
        "            'est': {\n",
        "                'coefficient_value':    res['est']['coefficient_value'],\n",
        "                'coefficient_name':     res['est']['coefficient_name'],\n",
        "                'confidence_interval':  res['est']['confidence_interval'],\n",
        "                'p_value':              res['est']['p_value'],\n",
        "                'z':                    res['est']['z'],\n",
        "                'se':                   res['est']['se'],\n",
        "                'pa':                   res['est']['pa'],\n",
        "                'pe':                   res['est']['pe']\n",
        "            },\n",
        "            'weights':    res['weights'],\n",
        "            'categories': res['categories']\n",
        "        })"
      ],
      "metadata": {
        "colab": {
          "base_uri": "https://localhost:8080/"
        },
        "id": "2udcSgxgyJk5",
        "outputId": "7f490159-d5cc-436b-b5e4-90841215aabd"
      },
      "execution_count": null,
      "outputs": [
        {
          "output_type": "stream",
          "name": "stdout",
          "text": [
            "Gwet's AC1 for Total (Bias vs No Bias):\n",
            "{'est': {'coefficient_value': 0.04141, 'coefficient_name': 'AC1', 'confidence_interval': (0.0056, 0.07722), 'p_value': 0.02342442257892019, 'z': 2.2676, 'se': 0.01826, 'pa': 0.52051, 'pe': 0.49979}, 'weights': array([[1., 0.],\n",
            "       [0., 1.]]), 'categories': [0, 1]}\n",
            "\n",
            "Gwet's AC1 for affect_h:\n",
            "{'est': {'coefficient_value': 0.70196, 'coefficient_name': 'AC1', 'confidence_interval': (0.67785, 0.72608), 'p_value': 0.0, 'z': 57.07656, 'se': 0.0123, 'pa': 0.78026, 'pe': 0.26271}, 'weights': array([[1., 0.],\n",
            "       [0., 1.]]), 'categories': [0, 1]}\n",
            "\n",
            "Gwet's AC1 for availability_h:\n",
            "{'est': {'coefficient_value': 0.90139, 'coefficient_name': 'AC1', 'confidence_interval': (0.8891, 0.91369), 'p_value': 0.0, 'z': 143.76427, 'se': 0.00627, 'pa': 0.91097, 'pe': 0.09713}, 'weights': array([[1., 0.],\n",
            "       [0., 1.]]), 'categories': [0, 1]}\n",
            "\n",
            "Gwet's AC1 for representativeness_h:\n",
            "{'est': {'coefficient_value': 0.93685, 'coefficient_name': 'AC1', 'confidence_interval': (0.92732, 0.94639), 'p_value': 0.0, 'z': 192.64051, 'se': 0.00486, 'pa': 0.94065, 'pe': 0.0601}, 'weights': array([[1., 0.],\n",
            "       [0., 1.]]), 'categories': [0, 1]}\n",
            "\n",
            "Gwet's AC1 for confirmation_b:\n",
            "{'est': {'coefficient_value': 0.79374, 'coefficient_name': 'AC1', 'confidence_interval': (0.77458, 0.8129), 'p_value': 0.0, 'z': 81.23343, 'se': 0.00977, 'pa': 0.83328, 'pe': 0.19168}, 'weights': array([[1., 0.],\n",
            "       [0., 1.]]), 'categories': [0, 1]}\n",
            "\n",
            "Gwet's AC1 for all_or_nothing:\n",
            "{'est': {'coefficient_value': 0.49064, 'coefficient_name': 'AC1', 'confidence_interval': (0.45829, 0.52298), 'p_value': 0.0, 'z': 29.74246, 'se': 0.0165, 'pa': 0.64288, 'pe': 0.29889}, 'weights': array([[1., 0.],\n",
            "       [0., 1.]]), 'categories': [0, 1]}\n"
          ]
        }
      ]
    },
    {
      "cell_type": "markdown",
      "source": [
        "#### Fleiss, Cohen's kappa and F1 score"
      ],
      "metadata": {
        "id": "LD1AdMgPqjfu"
      }
    },
    {
      "cell_type": "code",
      "source": [
        "biases     = ['affect_h', 'availability_h', 'representativeness_h', 'confirmation_b', 'all_or_nothing']\n",
        "annotators = ['fs', 'gpt']\n",
        "\n",
        "bias_presence_df = pd.DataFrame()\n",
        "for bias in biases:\n",
        "    for ann in annotators:\n",
        "        col = f\"{bias}_{ann}\"\n",
        "        if col in df.columns:\n",
        "            bias_presence_df[col] = df[col].fillna(0).astype(int)\n",
        "\n",
        "bias_presence_df['fs_any']  = bias_presence_df[[f\"{b}_fs\"  for b in biases]].sum(axis=1).ge(1).astype(int)\n",
        "bias_presence_df['gpt_any'] = bias_presence_df[[f\"{b}_gpt\" for b in biases]].sum(axis=1).ge(1).astype(int)\n",
        "\n",
        "def compute_metrics(a, b):\n",
        "    ratings = np.vstack([a, b]).T\n",
        "\n",
        "    # Fleiss' Kappa\n",
        "    count_table = np.vstack([ (ratings==0).sum(axis=1), (ratings==1).sum(axis=1) ]).T\n",
        "    fleiss = fleiss_kappa(count_table)\n",
        "\n",
        "    # Cohen's Kappa\n",
        "    cohen = cohen_kappa_score(a, b)\n",
        "\n",
        "    # Weighted F1\n",
        "    f1w = f1_score(a, b, average='weighted')\n",
        "    return fleiss, cohen, f1w\n",
        "results = []\n",
        "\n",
        "# Total (Bias/No Bias)\n",
        "a_total = bias_presence_df['fs_any']\n",
        "b_total = bias_presence_df['gpt_any']\n",
        "fleiss_t, cohen_t, f1w_t = compute_metrics(a_total, b_total)\n",
        "results.append({\n",
        "    'Bias': 'Total (Bias/No Bias)',\n",
        "    \"Fleiss' Kappa\": fleiss_t,\n",
        "    \"Cohen's Kappa\": cohen_t,\n",
        "    \"Weighted F1\": f1w_t\n",
        "})\n",
        "\n",
        "# Each individual bias\n",
        "pretty = {\n",
        "    'affect_h': 'Affect Heuristic',\n",
        "    'availability_h': 'Availability Heuristic',\n",
        "    'representativeness_h': 'Representativeness Heuristic',\n",
        "    'confirmation_b': 'Confirmation Bias',\n",
        "    'all_or_nothing': 'All-or-Nothing Thinking'\n",
        "}\n",
        "for bias in biases:\n",
        "    a_b = bias_presence_df[f\"{bias}_fs\"]\n",
        "    b_b = bias_presence_df[f\"{bias}_gpt\"]\n",
        "    fleiss_b, cohen_b, f1w_b = compute_metrics(a_b, b_b)\n",
        "    results.append({\n",
        "        'Bias': pretty[bias],\n",
        "        \"Fleiss' Kappa\": fleiss_b,\n",
        "        \"Cohen's Kappa\": cohen_b,\n",
        "        \"Weighted F1\": f1w_b\n",
        "    })\n",
        "\n",
        "results_df = pd.DataFrame(results)\n",
        "print(results_df.to_string(index=False))"
      ],
      "metadata": {
        "colab": {
          "base_uri": "https://localhost:8080/"
        },
        "id": "mkgQbpqRyl4G",
        "outputId": "f6b82abf-7431-4ce7-dc9b-291f006db3e5"
      },
      "execution_count": null,
      "outputs": [
        {
          "output_type": "stream",
          "name": "stdout",
          "text": [
            "                        Bias  Fleiss' Kappa  Cohen's Kappa  Weighted F1\n",
            "        Total (Bias/No Bias)       0.040617       0.202720     0.524905\n",
            "            Affect Heuristic       0.163568       0.174921     0.755763\n",
            "      Availability Heuristic       0.083377       0.085588     0.919887\n",
            "Representativeness Heuristic       0.012384       0.034128     0.964740\n",
            "           Confirmation Bias       0.130214       0.145217     0.861290\n",
            "     All-or-Nothing Thinking      -0.194826       0.013327     0.777430\n"
          ]
        }
      ]
    },
    {
      "cell_type": "markdown",
      "source": [
        "### Confusion matrix"
      ],
      "metadata": {
        "id": "nTPCEMY30bhc"
      }
    },
    {
      "cell_type": "code",
      "source": [
        "import matplotlib.pyplot as plt\n",
        "import seaborn as sns\n",
        "import matplotlib.cm as cm\n",
        "from sklearn.metrics import confusion_matrix"
      ],
      "metadata": {
        "id": "L6H47OUH1Ka8"
      },
      "execution_count": null,
      "outputs": []
    },
    {
      "cell_type": "code",
      "source": [
        "cmap_full = cm.get_cmap(\"Blues\")"
      ],
      "metadata": {
        "colab": {
          "base_uri": "https://localhost:8080/"
        },
        "id": "pTCIvg5o1PUA",
        "outputId": "8a39a05e-95b8-4e75-e047-ce02f8ba1085"
      },
      "execution_count": null,
      "outputs": [
        {
          "output_type": "stream",
          "name": "stderr",
          "text": [
            "<ipython-input-22-4d75ab46d239>:2: MatplotlibDeprecationWarning: The get_cmap function was deprecated in Matplotlib 3.7 and will be removed in 3.11. Use ``matplotlib.colormaps[name]`` or ``matplotlib.colormaps.get_cmap()`` or ``pyplot.get_cmap()`` instead.\n",
            "  cmap_full = cm.get_cmap(\"Blues\")\n"
          ]
        }
      ]
    },
    {
      "cell_type": "code",
      "source": [
        "# Function to plot confusion matrix\n",
        "def plot_confusion(true, pred, title):\n",
        "    cmatrix = confusion_matrix(true, pred, labels=[1, 0])\n",
        "    plt.figure(figsize=(4,3))\n",
        "    sns.heatmap(cmatrix, annot=True, fmt='d', cmap=cmap_full, vmin=100,\n",
        "                xticklabels=['1','0'],\n",
        "                yticklabels=['1','0'])\n",
        "    plt.title(title)\n",
        "    plt.ylabel('Actual Labels (FS)')\n",
        "    plt.xlabel('Predicted Labels (GPT)')\n",
        "    plt.tight_layout()\n",
        "    plt.show()\n",
        "\n",
        "# Plot Total confusion matrix\n",
        "plot_confusion(bias_presence_df['fs_any'], bias_presence_df['gpt_any'], 'Confusion Matrix: Total (Bias vs No Bias)')\n",
        "\n",
        "# Plot per-bias confusion matrices\n",
        "pretty = {\n",
        "    'affect_h': 'Affect Heuristic',\n",
        "    'availability_h': 'Availability Heuristic',\n",
        "    'representativeness_h': 'Representativeness Heuristic',\n",
        "    'confirmation_b': 'Confirmation Bias',\n",
        "    'all_or_nothing': 'All-or-Nothing Thinking'\n",
        "}\n",
        "\n",
        "for bias in biases:\n",
        "    plot_confusion(\n",
        "        bias_presence_df[f\"{bias}_fs\"],\n",
        "        bias_presence_df[f\"{bias}_gpt\"],\n",
        "        f'Confusion Matrix for {pretty[bias]}'\n",
        "    )\n"
      ],
      "metadata": {
        "colab": {
          "base_uri": "https://localhost:8080/",
          "height": 1000
        },
        "id": "jqa61RH70eCQ",
        "outputId": "5ae48c65-cfdd-4a97-d801-5b426d8b4f9d"
      },
      "execution_count": null,
      "outputs": [
        {
          "output_type": "display_data",
          "data": {
            "text/plain": [
              "<Figure size 400x300 with 2 Axes>"
            ],
            "image/png": "[encoded data removed]"
          },
          "metadata": {}
        },
        {
          "output_type": "display_data",
          "data": {
            "text/plain": [
              "<Figure size 400x300 with 2 Axes>"
            ],
            "image/png": "[encoded data removed]"
          },
          "metadata": {}
        },
        {
          "output_type": "display_data",
          "data": {
            "text/plain": [
              "<Figure size 400x300 with 2 Axes>"
            ],
            "image/png": "[encoded data removed]"
          },
          "metadata": {}
        },
        {
          "output_type": "display_data",
          "data": {
            "text/plain": [
              "<Figure size 400x300 with 2 Axes>"
            ],
            "image/png": "[encoded data removed]"
          },
          "metadata": {}
        },
        {
          "output_type": "display_data",
          "data": {
            "text/plain": [
              "<Figure size 400x300 with 2 Axes>"
            ],
            "image/png": "[encoded data removed]"
          },
          "metadata": {}
        },
        {
          "output_type": "display_data",
          "data": {
            "text/plain": [
              "<Figure size 400x300 with 2 Axes>"
            ],
            "image/png": "[encoded data removed]"
          },
          "metadata": {}
        }
      ]
    }
  ]
}